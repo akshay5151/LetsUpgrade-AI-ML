{
 "cells": [
  {
   "cell_type": "markdown",
   "metadata": {},
   "source": [
    "# 1. Create a 3x3x3 array with random values "
   ]
  },
  {
   "cell_type": "code",
   "execution_count": 1,
   "metadata": {},
   "outputs": [
    {
     "name": "stdout",
     "output_type": "stream",
     "text": [
      "[[[0.85028662 0.0241731  0.37450663]\n",
      "  [0.47438064 0.96674491 0.60595928]\n",
      "  [0.71251552 0.52331126 0.41781258]]\n",
      "\n",
      " [[0.61176333 0.72060542 0.32305626]\n",
      "  [0.28596134 0.0202723  0.31585512]\n",
      "  [0.04068294 0.47979715 0.30697042]]\n",
      "\n",
      " [[0.84788354 0.77607401 0.19671569]\n",
      "  [0.17266555 0.68697034 0.7438146 ]\n",
      "  [0.94050032 0.20412055 0.54783674]]]\n"
     ]
    }
   ],
   "source": [
    "import numpy as np\n",
    "a1=np.random.random((3,3,3))\n",
    "print(a1)"
   ]
  },
  {
   "cell_type": "markdown",
   "metadata": {},
   "source": [
    "# 2.Create a 5x5 matrix with values 1,2,3,4 just below the diagonal"
   ]
  },
  {
   "cell_type": "code",
   "execution_count": 2,
   "metadata": {},
   "outputs": [
    {
     "name": "stdout",
     "output_type": "stream",
     "text": [
      "[[0 0 0 0 0]\n",
      " [1 0 0 0 0]\n",
      " [0 2 0 0 0]\n",
      " [0 0 3 0 0]\n",
      " [0 0 0 4 0]]\n"
     ]
    }
   ],
   "source": [
    "x = np.diag(1+np.arange(4), k = -1)\n",
    "print(x)"
   ]
  },
  {
   "cell_type": "markdown",
   "metadata": {},
   "source": [
    "# 3.Create a 8x8 matrix and fill it with a checkerboard pattern"
   ]
  },
  {
   "cell_type": "code",
   "execution_count": 3,
   "metadata": {},
   "outputs": [
    {
     "name": "stdout",
     "output_type": "stream",
     "text": [
      "[[0 1 0 1 0 1 0 1]\n",
      " [1 0 1 0 1 0 1 0]\n",
      " [0 1 0 1 0 1 0 1]\n",
      " [1 0 1 0 1 0 1 0]\n",
      " [0 1 0 1 0 1 0 1]\n",
      " [1 0 1 0 1 0 1 0]\n",
      " [0 1 0 1 0 1 0 1]\n",
      " [1 0 1 0 1 0 1 0]]\n"
     ]
    }
   ],
   "source": [
    "x1 = np.zeros((8,8),dtype=int)\n",
    "x1[1::2,::2] = 1\n",
    "x1[::2,1::2] = 1\n",
    "print(x1)"
   ]
  },
  {
   "cell_type": "markdown",
   "metadata": {},
   "source": [
    "# 4. Normalize a 5x5 random matrix"
   ]
  },
  {
   "cell_type": "code",
   "execution_count": 4,
   "metadata": {},
   "outputs": [
    {
     "name": "stdout",
     "output_type": "stream",
     "text": [
      "original array:\n",
      "[[ 23   5  78  39  96]\n",
      " [128  43  48  26  17]\n",
      " [ 31 109  51 126 126]\n",
      " [126  40  47  31  72]\n",
      " [ 50  25 109 109 115]]\n",
      "Normalized Array:\n",
      "[[0.14634146 0.         0.59349593 0.27642276 0.7398374 ]\n",
      " [1.         0.30894309 0.3495935  0.17073171 0.09756098]\n",
      " [0.21138211 0.84552846 0.37398374 0.98373984 0.98373984]\n",
      " [0.98373984 0.28455285 0.34146341 0.21138211 0.54471545]\n",
      " [0.36585366 0.16260163 0.84552846 0.84552846 0.89430894]]\n"
     ]
    }
   ],
   "source": [
    "arr=np.random.randint(130,size=(5,5))\n",
    "print('original array:')\n",
    "print(arr)\n",
    "new_arr=(arr-arr.min())/(arr.max()-arr.min())\n",
    "print('Normalized Array:')\n",
    "print(new_arr)"
   ]
  },
  {
   "cell_type": "markdown",
   "metadata": {},
   "source": [
    "# 5.  How to find common values between two arrays?"
   ]
  },
  {
   "cell_type": "code",
   "execution_count": 5,
   "metadata": {},
   "outputs": [
    {
     "name": "stdout",
     "output_type": "stream",
     "text": [
      "Common Values:  [20 40]\n"
     ]
    }
   ],
   "source": [
    "a3=np.array([10,20,30,40,50])\n",
    "a4=np.array([20,25,40,45])\n",
    "a5=np.intersect1d(a3,a4)\n",
    "print('Common Values: ',a5)"
   ]
  },
  {
   "cell_type": "markdown",
   "metadata": {},
   "source": [
    "# 6.How to get the dates of yesterday, today and tomorrow?"
   ]
  },
  {
   "cell_type": "code",
   "execution_count": 6,
   "metadata": {},
   "outputs": [
    {
     "name": "stdout",
     "output_type": "stream",
     "text": [
      "Yestraday:  2020-07-27\n",
      "Today:  2020-07-28\n",
      "Tomorrow:  2020-07-29\n"
     ]
    }
   ],
   "source": [
    "yesterday=np.datetime64('today','D') - np.timedelta64(1,'D')\n",
    "print('Yestraday: ',yesterday)\n",
    "today= np.datetime64('today','D')\n",
    "print('Today: ',today)\n",
    "tomorrow=np.datetime64('today','D') + np.timedelta64(1,'D')\n",
    "print('Tomorrow: ',tomorrow)"
   ]
  },
  {
   "cell_type": "markdown",
   "metadata": {},
   "source": [
    "# 7. Consider two random array A and B, check if they are equal"
   ]
  },
  {
   "cell_type": "code",
   "execution_count": 7,
   "metadata": {},
   "outputs": [
    {
     "name": "stdout",
     "output_type": "stream",
     "text": [
      "First Array:\n",
      " [[ 2  3  4]\n",
      " [ 6  4  8]\n",
      " [10  9  7]]\n",
      "Second Array:\n",
      " [[2 3 4]\n",
      " [6 4 8]]\n"
     ]
    },
    {
     "data": {
      "text/plain": [
       "False"
      ]
     },
     "execution_count": 7,
     "metadata": {},
     "output_type": "execute_result"
    }
   ],
   "source": [
    "A=np.array([[2,3,4],[6,4,8],[10,9,7]])\n",
    "print('First Array:\\n',A)\n",
    "B=np.array([[2,3,4],[6,4,8]])\n",
    "print('Second Array:\\n',B)\n",
    "np.array_equal(A,B)"
   ]
  },
  {
   "cell_type": "markdown",
   "metadata": {},
   "source": [
    "# 8.Create random vector of size 10 and replace the maximum value by 0 "
   ]
  },
  {
   "cell_type": "code",
   "execution_count": 8,
   "metadata": {},
   "outputs": [
    {
     "name": "stdout",
     "output_type": "stream",
     "text": [
      "original Array:  [27 23 28 13 28 19 26  5 14  7]\n",
      "New array:  [27 23  0 13 28 19 26  5 14  7]\n"
     ]
    }
   ],
   "source": [
    "arr1=np.random.randint(30,size=10)\n",
    "print('original Array: ',arr1)\n",
    "arr1[arr1.argmax()]=0\n",
    "print('New array: ',arr1)"
   ]
  },
  {
   "cell_type": "markdown",
   "metadata": {},
   "source": [
    "# 9. How to print all the values of an array?"
   ]
  },
  {
   "cell_type": "code",
   "execution_count": 9,
   "metadata": {},
   "outputs": [
    {
     "name": "stdout",
     "output_type": "stream",
     "text": [
      "10\n",
      "14\n",
      "17\n",
      "20\n",
      "24\n"
     ]
    }
   ],
   "source": [
    "arr2=np.array([10,14,17,20,24])\n",
    "for i in arr2:\n",
    "    print(i)"
   ]
  },
  {
   "cell_type": "markdown",
   "metadata": {},
   "source": [
    "# 10.Subtract the mean of each row of a matrix"
   ]
  },
  {
   "cell_type": "code",
   "execution_count": 11,
   "metadata": {},
   "outputs": [
    {
     "name": "stdout",
     "output_type": "stream",
     "text": [
      "Mean array:\n",
      " [[2.]\n",
      " [5.]\n",
      " [8.]]\n",
      "After subtracting mean array:\n",
      " [[-1.  0.  1.]\n",
      " [-1.  0.  1.]\n",
      " [-1.  0.  1.]]\n"
     ]
    }
   ],
   "source": [
    "arr3=np.array([[1,2,3],[4,5,6],[7,8,9]])\n",
    "mean_arr=np.mean(arr3,axis=1)\n",
    "x=np.array([mean_arr]).T\n",
    "new=arr3-x\n",
    "print('Mean array:\\n',x)\n",
    "print('After subtracting mean array:\\n',new)"
   ]
  },
  {
   "cell_type": "markdown",
   "metadata": {},
   "source": [
    "# 11.Consider a given vector, how to add 1 to each element indexed by a second vector (be careful with repeated indices)? "
   ]
  },
  {
   "cell_type": "code",
   "execution_count": 12,
   "metadata": {},
   "outputs": [
    {
     "name": "stdout",
     "output_type": "stream",
     "text": [
      "Given Vector:  [10 15 20 25 35 38 42 56 60 70]\n",
      "index vector:  [4 7 3 2]\n",
      "New index vector:  [4 7 3 2]\n",
      "new vector:  [10 15 21 26 36 38 42 57 60 70]\n"
     ]
    }
   ],
   "source": [
    "c=np.array([10,15,20,25,35,38,42,56,60,70])\n",
    "index=np.random.randint(len(c),size=4)\n",
    "print('Given Vector: ',c)\n",
    "print('index vector: ',index)\n",
    "l=[]\n",
    "for i in index:\n",
    "    if i not in l:\n",
    "        l.append(i)\n",
    "new_in=np.array(l)\n",
    "print('New index vector: ',new_in)\n",
    "for i in new_in:\n",
    "    c[i]=c[i]+1\n",
    "print('new vector: ',c)"
   ]
  },
  {
   "cell_type": "markdown",
   "metadata": {},
   "source": [
    "# 12.How to get the diagonal of a dot product?"
   ]
  },
  {
   "cell_type": "code",
   "execution_count": 13,
   "metadata": {},
   "outputs": [
    {
     "name": "stdout",
     "output_type": "stream",
     "text": [
      "Dot Product array:\n",
      " [[ 34  36  20]\n",
      " [ 21  28  22]\n",
      " [ 90 100  64]]\n",
      "Diagonal:  [34 28 64]\n"
     ]
    }
   ],
   "source": [
    "ar1=np.array([[1,2,3],[2,3,1],[5,6,7]])\n",
    "ar2=np.array([[3,4,5],[2,4,3],[9,8,3]])\n",
    "dp=np.dot(ar1,ar2)\n",
    "print('Dot Product array:\\n',dp)\n",
    "diagonal=np.diag(dp)\n",
    "print('Diagonal: ',diagonal)"
   ]
  },
  {
   "cell_type": "markdown",
   "metadata": {},
   "source": [
    "# 13.How to find the most frequent value in an array?"
   ]
  },
  {
   "cell_type": "code",
   "execution_count": 14,
   "metadata": {},
   "outputs": [
    {
     "name": "stdout",
     "output_type": "stream",
     "text": [
      "Original array:\n",
      " [10 20 30 30 20 56 45 30 32 10 32]\n",
      "Most frequent value:\n",
      "30\n"
     ]
    }
   ],
   "source": [
    "d=np.array([10,20,30,30,20,56,45,30,32,10,32])\n",
    "print('Original array:\\n',d)\n",
    "print('Most frequent value:')\n",
    "print(np.bincount(d).argmax())"
   ]
  },
  {
   "cell_type": "markdown",
   "metadata": {},
   "source": [
    "# 14.How to get the n largest values of an array"
   ]
  },
  {
   "cell_type": "code",
   "execution_count": 16,
   "metadata": {},
   "outputs": [
    {
     "name": "stdout",
     "output_type": "stream",
     "text": [
      "Original array:\n",
      " [ 0  1  2  3  4  5  6  7  8  9 10 11 12 13 14 15 16 17 18 19]\n",
      "n largest values in array:\n",
      " [17 18 19]\n"
     ]
    }
   ],
   "source": [
    "x = np.arange(20)\n",
    "print(\"Original array:\\n\",x)\n",
    "np.random.shuffle(x)\n",
    "n = 3\n",
    "print ('n largest values in array:\\n',x[np.argsort(x)[-n:]])"
   ]
  },
  {
   "cell_type": "markdown",
   "metadata": {},
   "source": [
    "# 15.How to create a record array from a regular array?"
   ]
  },
  {
   "cell_type": "code",
   "execution_count": 17,
   "metadata": {},
   "outputs": [
    {
     "name": "stdout",
     "output_type": "stream",
     "text": [
      "[(1, 'Red', 12.2) (2, 'Green', 15. ) (3, 'White', 20. )\n",
      " (4, 'Orange', 40. )]\n"
     ]
    }
   ],
   "source": [
    "a1=np.array([1,2,3,4])\n",
    "a2=np.array(['Red','Green','White','Orange'])\n",
    "a3=np.array([12.20,15,20,40])\n",
    "result= np.core.records.fromarrays([a1, a2, a3],names='a,b,c')\n",
    "print(result)"
   ]
  }
 ],
 "metadata": {
  "kernelspec": {
   "display_name": "Python 3",
   "language": "python",
   "name": "python3"
  },
  "language_info": {
   "codemirror_mode": {
    "name": "ipython",
    "version": 3
   },
   "file_extension": ".py",
   "mimetype": "text/x-python",
   "name": "python",
   "nbconvert_exporter": "python",
   "pygments_lexer": "ipython3",
   "version": "3.7.6"
  },
  "toc": {
   "base_numbering": 1,
   "nav_menu": {},
   "number_sections": true,
   "sideBar": true,
   "skip_h1_title": false,
   "title_cell": "Table of Contents",
   "title_sidebar": "Contents",
   "toc_cell": false,
   "toc_position": {},
   "toc_section_display": true,
   "toc_window_display": false
  }
 },
 "nbformat": 4,
 "nbformat_minor": 2
}
