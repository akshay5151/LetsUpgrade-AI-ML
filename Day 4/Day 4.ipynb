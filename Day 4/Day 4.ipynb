{
 "cells": [
  {
   "cell_type": "markdown",
   "metadata": {},
   "source": [
    "__Q 1.__ Research on whether addition, subtraction, multiplication, division, floor division and modulo\n",
    "operations be performed on complex numbers. Based on your study, implement a Python\n",
    "program to demonstrate these operations.\n"
   ]
  },
  {
   "cell_type": "markdown",
   "metadata": {},
   "source": [
    "Addition, Subtraction, Multiplication, Division operation can be performed on complex numbers; but floor diviision and modulo operation can not perform in  python."
   ]
  },
  {
   "cell_type": "code",
   "execution_count": 7,
   "metadata": {
    "scrolled": true
   },
   "outputs": [
    {
     "name": "stdout",
     "output_type": "stream",
     "text": [
      "Addition of two complex number : (9+15j)\n",
      "Subtraction of two complex number : (-1+3j)\n",
      "Multiplication of two complex number : (-34+69j)\n",
      "Division of two complex number : (1.2131147540983607+0.34426229508196715j)\n"
     ]
    }
   ],
   "source": [
    "a = 4+9j\n",
    "b = 5+6j\n",
    "print('Addition of two complex number :',a+b)\n",
    "print('Subtraction of two complex number :',a-b)\n",
    "print('Multiplication of two complex number :',a*b)\n",
    "print('Division of two complex number :',a/b)"
   ]
  },
  {
   "cell_type": "markdown",
   "metadata": {},
   "source": [
    "__Q 2.__ Research on range() functions and its parameters. Create a markdown cell and write in your own\n",
    "words (no copy-paste from google please) what you understand about it. Implement a small\n",
    "program of your choice on the same.\n"
   ]
  },
  {
   "cell_type": "markdown",
   "metadata": {},
   "source": [
    "In python range() function returns a sequence of numbers. It has three parameter values Start, Stop and Step in which start and step values are optional. Whike using range() function we can use only integer values.\n",
    "\n",
    "__Parameters used in range()__\n",
    "1. Start: It's integer number which specifying  at which position rang should start. By default is 0.\n",
    "2. Stop: It's integer number which specifying befoe which the sequence of integer is to be returned. The range of integer end at stop-1.\n",
    "3. Stepsize: It's integer number which specifying the incrementation. By default is 1"
   ]
  },
  {
   "cell_type": "code",
   "execution_count": 18,
   "metadata": {},
   "outputs": [
    {
     "name": "stdout",
     "output_type": "stream",
     "text": [
      "0,1,2,3,4,5,"
     ]
    }
   ],
   "source": [
    "# Print 1st 5 no.\n",
    "for i in range(6):\n",
    "    print(i, end=',')"
   ]
  },
  {
   "cell_type": "code",
   "execution_count": 19,
   "metadata": {},
   "outputs": [
    {
     "name": "stdout",
     "output_type": "stream",
     "text": [
      "50,51,52,53,54,"
     ]
    }
   ],
   "source": [
    "# print integers within given start and stop no.\n",
    "for a in range(50,55):\n",
    "    print(a, end=',')"
   ]
  },
  {
   "cell_type": "code",
   "execution_count": 23,
   "metadata": {},
   "outputs": [
    {
     "name": "stdout",
     "output_type": "stream",
     "text": [
      "1,3,5,7,9,"
     ]
    }
   ],
   "source": [
    "# print all odd no. between 0 to 1\n",
    "for a in range(1,10,2):\n",
    "    print(a, end=',')"
   ]
  },
  {
   "cell_type": "markdown",
   "metadata": {},
   "source": [
    "__Q 3.__ Consider two numbers. Perform their subtraction and if the result of subtraction is greater than\n",
    "25, print their multiplication result else print their division result."
   ]
  },
  {
   "cell_type": "code",
   "execution_count": 2,
   "metadata": {},
   "outputs": [
    {
     "name": "stdout",
     "output_type": "stream",
     "text": [
      "Division : 2.0\n"
     ]
    }
   ],
   "source": [
    "a = 30\n",
    "b = 15\n",
    "if a-b > 25:\n",
    "    print('Multiplication :',a*b)\n",
    "else:\n",
    "    print('Division :',a/b)"
   ]
  },
  {
   "cell_type": "markdown",
   "metadata": {},
   "source": [
    "__Q 4.__ Consider a list of 10 elements of integer values. If the number in the list is divisible by 2, print the\n",
    "result as \"square of that number minus 2\".\n"
   ]
  },
  {
   "cell_type": "code",
   "execution_count": 37,
   "metadata": {
    "scrolled": true
   },
   "outputs": [
    {
     "name": "stdout",
     "output_type": "stream",
     "text": [
      "142\n",
      "194\n",
      "254\n",
      "322\n",
      "398\n"
     ]
    }
   ],
   "source": [
    "l = (range(11,21))\n",
    "for i in l:\n",
    "    if i%2==0:\n",
    "        print(i**2 -2)"
   ]
  },
  {
   "cell_type": "markdown",
   "metadata": {},
   "source": [
    "__Q 5.__ Consider a list of 10 elements. Print all the elements in the list which are greater than 7 when that\n",
    "number is divided 2."
   ]
  },
  {
   "cell_type": "code",
   "execution_count": 41,
   "metadata": {},
   "outputs": [
    {
     "name": "stdout",
     "output_type": "stream",
     "text": [
      "15\n",
      "16\n",
      "17\n",
      "18\n",
      "19\n",
      "20\n"
     ]
    }
   ],
   "source": [
    "l = (range(11,21))\n",
    "for i in l:\n",
    "    if i/2>7:\n",
    "        print(i)"
   ]
  }
 ],
 "metadata": {
  "kernelspec": {
   "display_name": "Python 3",
   "language": "python",
   "name": "python3"
  },
  "language_info": {
   "codemirror_mode": {
    "name": "ipython",
    "version": 3
   },
   "file_extension": ".py",
   "mimetype": "text/x-python",
   "name": "python",
   "nbconvert_exporter": "python",
   "pygments_lexer": "ipython3",
   "version": "3.7.6"
  }
 },
 "nbformat": 4,
 "nbformat_minor": 4
}
