{
 "cells": [
  {
   "cell_type": "markdown",
   "metadata": {},
   "source": [
    "__Q 1.__ Write a Python program to find the first 20 non-even prime natural numbers"
   ]
  },
  {
   "cell_type": "code",
   "execution_count": 10,
   "metadata": {},
   "outputs": [
    {
     "name": "stdout",
     "output_type": "stream",
     "text": [
      "3 5 7 11 13 17 19 23 29 31 37 41 43 47 53 59 61 67 71 73 "
     ]
    }
   ],
   "source": [
    "def checkprime(num):\n",
    "    for i in range(2,(num//2)+1):\n",
    "        if num%i == 0:\n",
    "            return False\n",
    "    return True\n",
    "\n",
    "def gen_noneven_prime(count):\n",
    "    i=0\n",
    "    num=3\n",
    "    while i<count:\n",
    "        if checkprime(num) == True:\n",
    "            print(num,end=\" \")\n",
    "            i=i+1\n",
    "        num=num+1\n",
    "gen_noneven_prime(20)"
   ]
  },
  {
   "cell_type": "markdown",
   "metadata": {},
   "source": [
    "__Q 2.__ Write a Python program to implement 15 functions of string."
   ]
  },
  {
   "cell_type": "code",
   "execution_count": 17,
   "metadata": {},
   "outputs": [
    {
     "name": "stdout",
     "output_type": "stream",
     "text": [
      "Shubham shete\n",
      "***Shubham Shete****\n",
      "False\n",
      "False\n",
      "False\n",
      "2\n",
      "Shubhpm Shete\n",
      "shubham shete\n",
      "Shubham Shete\n",
      "SHUBHAM SHETE\n",
      "shubham shete\n",
      "False\n",
      "False\n",
      "False\n",
      "True\n"
     ]
    }
   ],
   "source": [
    "str1=\"Shubham Shete\"\n",
    "str2=\"123\"\n",
    "# Return a copy of the string with only its first character capitalized.\n",
    "print(str1.capitalize())\n",
    "# Return centered in a string of length width. Padding is done using the specified fillchar (default is a space).\n",
    "print(str1.center(20,\"*\"))\n",
    "# Return true if all characters in the string are alphabetic and there is at least one character, false otherwise.\n",
    "print(str1.isalpha())\n",
    "# Return true if all characters in the string are alphanumeric and there is at least one character, false otherwise.\n",
    "print(str1.isalnum())\n",
    "# Return true if all characters in the string are digits and there is at least one character, false otherwise.\n",
    "print(str1.isdigit())\n",
    "# Returns the number of times a specified value occurs in a string\n",
    "print(str1.count(\"e\"))\n",
    "# Return a copy of the string with selected character replaced with new character\n",
    "print(str1.replace(\"a\",\"p\"))\n",
    "# Return a copy of the string with converted to lowercase\n",
    "print(str1.casefold())\n",
    "# Return a copy of the string with first character of all word to capital and rest to upper case\n",
    "print(str1.title())\n",
    "# Return a copy of the string with all the cased characters converted to uppercase.\n",
    "print(str1.upper())\n",
    "# Return a copy of the string with all the cased characters converted to lowercase.\n",
    "print(str1.lower())\n",
    "# Return True if all cased characters 4 in the string are uppercase and there is at least one cased character, False otherwise.\n",
    "print(str1.isupper())\n",
    "# Return True if all cased characters in the string are lowercase and there is at least one cased character, False otherwise.\n",
    "print(str1.islower())\n",
    "# Return true if all characters in the string are numeric and there is at least one character, false otherwise.\n",
    "print(str1.isnumeric())\n",
    "print(str2.isnumeric())"
   ]
  },
  {
   "cell_type": "markdown",
   "metadata": {},
   "source": [
    "__Q 3.__ Write a Python program to check if the given string is a Palindrome or Anagram or None of them.\n",
    "Display the message accordingly to the user."
   ]
  },
  {
   "cell_type": "code",
   "execution_count": 5,
   "metadata": {},
   "outputs": [
    {
     "name": "stdout",
     "output_type": "stream",
     "text": [
      "Enter String 1: hiim\n",
      "Enter String 2: miih\n",
      "String is Anagram\n"
     ]
    }
   ],
   "source": [
    "str1=input(\"Enter String 1: \")\n",
    "\n",
    "if str1 == str1[::-1]:\n",
    "    print(\"String \",str1,\" : is Palindrome \")\n",
    "else:\n",
    "    str2=input(\"Enter String 2: \")\n",
    "    if sorted(str1) == sorted(str2):\n",
    "        print(\"String is Anagram\")\n",
    "    else:\n",
    "        print(\"None of them\")"
   ]
  },
  {
   "cell_type": "markdown",
   "metadata": {},
   "source": [
    "__Q 4.__ Write a Python's user defined function that removes all the additional characters from the string\n",
    "and converts it finally to lower case using built-in lower(). eg: If the string is \"Dr. Darshan Ingle\n",
    "@AI-ML Trainer\", then the output be \"drdarshaningleaimltrainer\"."
   ]
  },
  {
   "cell_type": "code",
   "execution_count": 13,
   "metadata": {},
   "outputs": [
    {
     "name": "stdout",
     "output_type": "stream",
     "text": [
      "Enter the string:ShubhamSHete@123\n",
      "shubhamshete123\n"
     ]
    }
   ],
   "source": [
    "str1=input(\"Enter the string:\")\n",
    "\n",
    "str2=''.join(e for e in str1 if e.isalnum())\n",
    "\n",
    "print(str2.lower())"
   ]
  }
 ],
 "metadata": {
  "kernelspec": {
   "display_name": "Python 3",
   "language": "python",
   "name": "python3"
  },
  "language_info": {
   "codemirror_mode": {
    "name": "ipython",
    "version": 3
   },
   "file_extension": ".py",
   "mimetype": "text/x-python",
   "name": "python",
   "nbconvert_exporter": "python",
   "pygments_lexer": "ipython3",
   "version": "3.7.6"
  }
 },
 "nbformat": 4,
 "nbformat_minor": 4
}
