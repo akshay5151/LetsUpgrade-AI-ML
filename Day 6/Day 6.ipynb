{
 "cells": [
  {
   "cell_type": "markdown",
   "metadata": {},
   "source": [
    "__Q 1.__ Assuming that we have some email addresses in the \"username@companyname.com\" format, please write program\n",
    "to print the company name of a given email address. Both user names and company names are composed of letters\n",
    "only."
   ]
  },
  {
   "cell_type": "code",
   "execution_count": 5,
   "metadata": {},
   "outputs": [
    {
     "name": "stdout",
     "output_type": "stream",
     "text": [
      "Enter the email id : \n",
      "shubham@yahoo.com\n",
      "Company Name: YAHOO\n"
     ]
    }
   ],
   "source": [
    "email = input ('Enter the email id : \\n')\n",
    "\n",
    "def username (email):\n",
    "    seperator = email.index('@')\n",
    "    seperator1 = email.index('.')\n",
    "    return email[:seperator],email[seperator+1:seperator1]\n",
    "a = username (email)\n",
    "print('Company Name:',a[1].upper())"
   ]
  },
  {
   "cell_type": "code",
   "execution_count": 7,
   "metadata": {},
   "outputs": [
    {
     "name": "stdout",
     "output_type": "stream",
     "text": [
      "Enter emil id: \n",
      "shubham@yahoo.com\n",
      "Company Name : YAHOO\n"
     ]
    }
   ],
   "source": [
    "email = input ('Enter emil id: \\n')\n",
    "print('Company Name :',email.split('@')[1].split('.')[0].upper())"
   ]
  },
  {
   "cell_type": "markdown",
   "metadata": {},
   "source": [
    "__Q 2.__ Write a program that accepts a comma-separated sequence of words as input and prints the words in a comma\n",
    "separated sequence after sorting them alphabetically."
   ]
  },
  {
   "cell_type": "code",
   "execution_count": 22,
   "metadata": {},
   "outputs": [
    {
     "name": "stdout",
     "output_type": "stream",
     "text": [
      "seq before sorting : hi,bye,hello,world,no\n",
      "seq after sorting : bye,hello,hi,no,world\n"
     ]
    }
   ],
   "source": [
    "seq = 'hi,bye,hello,world,no'\n",
    "seq1 = seq.split(',')\n",
    "seq1.sort()\n",
    "print('seq before sorting :',seq)\n",
    "print('seq after sorting :',','.join(seq1))"
   ]
  },
  {
   "cell_type": "markdown",
   "metadata": {},
   "source": [
    "__Q 3.__ Create your own Jupyter Notebook for Sets"
   ]
  },
  {
   "cell_type": "code",
   "execution_count": 34,
   "metadata": {},
   "outputs": [
    {
     "name": "stdout",
     "output_type": "stream",
     "text": [
      "{1, 2, 3}\n",
      "{1, 2, 3, 4}\n",
      "{1, 2, 3, 4}\n",
      "{1, 2, 3, 4, 5, 6, 14}\n",
      "{1, 2, 3, 4, 5, 6, 11, 12, 13, 14}\n",
      "{2, 3, 4, 5, 6, 11, 12, 13, 14}\n",
      "{3, 4, 5, 6, 11, 12, 13, 14}\n",
      "{3, 4, 5, 6, 11, 12, 13, 14}\n",
      "8\n",
      "set()\n",
      "{'bye', 'hi'}\n"
     ]
    }
   ],
   "source": [
    "s={1,2,3}\n",
    "print(s)\n",
    "# add():Adds an element to the set\n",
    "s.add(4)\n",
    "print(s)\n",
    "# copy():Returns a copy of the set\n",
    "s.copy()\n",
    "print(s)\n",
    "# update():Update the set with the union of this set and others / To add more than one item to a set\n",
    "s.update([14,5,6])\n",
    "print(s)\n",
    "s1={11,12,13}\n",
    "s.update(s1)\n",
    "print(s)\n",
    "#remove()or discard():Remove an item in a set\n",
    "s.remove(1)\n",
    "print(s)\n",
    "#pop():Remove the last item in %set_envet\n",
    "s.pop()\n",
    "print(s)\n",
    "#union():Method that returns a new set containing all items from both sets\n",
    "s.union(s1)\n",
    "print(s)\n",
    "# len():To determine how many items a set has\n",
    "print(len(s))\n",
    "# clear():Empties the set\n",
    "s.clear()\n",
    "print(s)\n",
    "#set():Use to construct a set\n",
    "s2=set(('hi','bye'))\n",
    "print(s2)"
   ]
  },
  {
   "cell_type": "markdown",
   "metadata": {},
   "source": [
    "__Q 4.__ Given a list of n-1 numbers ranging from 1 to n, your task is to find the missing number. There are no duplicates"
   ]
  },
  {
   "cell_type": "code",
   "execution_count": 35,
   "metadata": {
    "scrolled": true
   },
   "outputs": [
    {
     "name": "stdout",
     "output_type": "stream",
     "text": [
      "Input sequencce :\n",
      "1 2 4 6 7 9 11 13 15 16 17 18 20\n",
      "Missing Number is : 3\n",
      "Missing Number is : 5\n",
      "Missing Number is : 8\n",
      "Missing Number is : 10\n",
      "Missing Number is : 12\n",
      "Missing Number is : 14\n",
      "Missing Number is : 19\n"
     ]
    }
   ],
   "source": [
    "seq = input('Input sequencce :\\n')\n",
    "counter=int(seq[0])\n",
    "for i in seq.split(' '):\n",
    "    if int(i) != counter:\n",
    "        print('Missing Number is :',counter)\n",
    "        counter = counter + 1\n",
    "    counter = counter + 1"
   ]
  },
  {
   "cell_type": "markdown",
   "metadata": {},
   "source": [
    "__Q 5.__ With a given list L, write a program to print this list L after removing all duplicate values with original order reserved."
   ]
  },
  {
   "cell_type": "code",
   "execution_count": 90,
   "metadata": {},
   "outputs": [
    {
     "name": "stdout",
     "output_type": "stream",
     "text": [
      "List Befor Removing Duplicates : ['1', '2', '3', '3', '4', 'a', 'ab', 'cc', '44', 'a', '1']\n",
      "After Removing Duplicates: ['1', '2', '3', '4', 'a', 'ab', 'cc', '44']\n"
     ]
    }
   ],
   "source": [
    "l = ['1','2','3','3','4','a','ab','cc','44','a','1']\n",
    "print('List Befor Removing Duplicates :',l)\n",
    "def remove_duplicate(a):\n",
    "    l1=[]\n",
    "    for i in a:\n",
    "        if i not in l1:\n",
    "            l1.append(i)\n",
    "    return print('After Removing Duplicates:',l1)\n",
    "remove_duplicate(l)"
   ]
  }
 ],
 "metadata": {
  "kernelspec": {
   "display_name": "Python 3",
   "language": "python",
   "name": "python3"
  },
  "language_info": {
   "codemirror_mode": {
    "name": "ipython",
    "version": 3
   },
   "file_extension": ".py",
   "mimetype": "text/x-python",
   "name": "python",
   "nbconvert_exporter": "python",
   "pygments_lexer": "ipython3",
   "version": "3.7.6"
  },
  "toc": {
   "base_numbering": 1,
   "nav_menu": {},
   "number_sections": true,
   "sideBar": true,
   "skip_h1_title": false,
   "title_cell": "Table of Contents",
   "title_sidebar": "Contents",
   "toc_cell": false,
   "toc_position": {},
   "toc_section_display": true,
   "toc_window_display": false
  }
 },
 "nbformat": 4,
 "nbformat_minor": 4
}
